{
  "nbformat": 4,
  "nbformat_minor": 0,
  "metadata": {
    "colab": {
      "name": "RandomForestTitanic.ipynb",
      "provenance": [],
      "collapsed_sections": [],
      "toc_visible": true
    },
    "kernelspec": {
      "name": "python3",
      "display_name": "Python 3"
    }
  },
  "cells": [
    {
      "cell_type": "code",
      "metadata": {
        "id": "Mn1bZauk6eCd",
        "colab_type": "code",
        "colab": {}
      },
      "source": [
        "#load libraries\n",
        "\n",
        "import numpy as np\n",
        "import pandas as pd"
      ],
      "execution_count": 1,
      "outputs": []
    },
    {
      "cell_type": "markdown",
      "metadata": {
        "id": "_eORwpq07Whs",
        "colab_type": "text"
      },
      "source": [
        "### **Single Decision Tree**"
      ]
    },
    {
      "cell_type": "code",
      "metadata": {
        "id": "tjL6ITcP7RRI",
        "colab_type": "code",
        "colab": {
          "base_uri": "https://localhost:8080/",
          "height": 136
        },
        "outputId": "4d26b963-8591-4f54-da55-bd1e9bc4312f"
      },
      "source": [
        "#Read dataframe\n",
        "df = pd.read_csv('titanic.csv', sep = ';')\n",
        "print(df.shape)\n",
        "print(df.head())\n",
        "\n",
        "# Extract the target (injuried)\n",
        "target = np.array(df.pop(\"Survived\"))"
      ],
      "execution_count": 30,
      "outputs": [
        {
          "output_type": "stream",
          "text": [
            "(714, 7)\n",
            "   Pclass  female   Age  SibSp  Parch     Fare  Survived\n",
            "0       3       0  22.0      1      0   7.2500         0\n",
            "1       1       1  38.0      1      0  71.2833         1\n",
            "2       3       1  26.0      0      0   7.9250         1\n",
            "3       1       1  35.0      1      0  53.1000         1\n",
            "4       3       0  35.0      0      0   8.0500         0\n"
          ],
          "name": "stdout"
        }
      ]
    },
    {
      "cell_type": "code",
      "metadata": {
        "id": "glbOH_8zSFNV",
        "colab_type": "code",
        "colab": {
          "base_uri": "https://localhost:8080/",
          "height": 34
        },
        "outputId": "89755032-6ff2-4a4f-de1a-3a182b981d88"
      },
      "source": [
        "#Splinting dataframe in training and test data (70/30 ratio)\n",
        "\n",
        "from sklearn.model_selection import train_test_split\n",
        "\n",
        "train, test, train_target, test_target = train_test_split(df, target, stratify = target, test_size = 0.3)\n",
        "print(train.shape, test.shape, train_target.shape, test_target.shape)"
      ],
      "execution_count": 6,
      "outputs": [
        {
          "output_type": "stream",
          "text": [
            "(499, 6) (215, 6) (499,) (215,)\n"
          ],
          "name": "stdout"
        }
      ]
    },
    {
      "cell_type": "code",
      "metadata": {
        "id": "1iPXNsiq9sl2",
        "colab_type": "code",
        "colab": {
          "base_uri": "https://localhost:8080/",
          "height": 34
        },
        "outputId": "3d1e2db3-5ae7-4fb8-81b2-fb033a9e4535"
      },
      "source": [
        "# Train tree\n",
        "from sklearn.tree import DecisionTreeClassifier\n",
        "\n",
        "tree = DecisionTreeClassifier()\n",
        "tree.fit(train, train_target)\n",
        "print(f'Decision tree has {tree.tree_.node_count} nodes with maximum depth {tree.tree_.max_depth}.')"
      ],
      "execution_count": 7,
      "outputs": [
        {
          "output_type": "stream",
          "text": [
            "Decision tree has 239 nodes with maximum depth 14.\n"
          ],
          "name": "stdout"
        }
      ]
    },
    {
      "cell_type": "code",
      "metadata": {
        "id": "O2-bDq6G9yBq",
        "colab_type": "code",
        "colab": {}
      },
      "source": [
        "# Make probability predictions\n",
        "train_probs = tree.predict_proba(train)[:, 1]\n",
        "probs = tree.predict_proba(test)[:, 1]\n",
        "\n",
        "train_predictions = tree.predict(train)\n",
        "predictions = tree.predict(test)"
      ],
      "execution_count": 8,
      "outputs": []
    },
    {
      "cell_type": "code",
      "metadata": {
        "id": "JEMeWA__TEYv",
        "colab_type": "code",
        "colab": {
          "base_uri": "https://localhost:8080/",
          "height": 34
        },
        "outputId": "63cbf33e-85b6-4ba4-cc26-71b112624cdb"
      },
      "source": [
        "#Couting classes prediction\n",
        "from collections import Counter\n",
        "print(Counter(predictions))"
      ],
      "execution_count": 9,
      "outputs": [
        {
          "output_type": "stream",
          "text": [
            "Counter({0: 131, 1: 84})\n"
          ],
          "name": "stdout"
        }
      ]
    },
    {
      "cell_type": "code",
      "metadata": {
        "id": "xoSm8bk1Bnya",
        "colab_type": "code",
        "colab": {
          "base_uri": "https://localhost:8080/",
          "height": 51
        },
        "outputId": "f66de662-cf02-4cb6-b2e2-84fca3b4a0ae"
      },
      "source": [
        "from sklearn.metrics import precision_score, recall_score, roc_auc_score, roc_curve\n",
        "\n",
        "print(f'Train ROC AUC Score: {roc_auc_score(train_target, train_probs)}')\n",
        "print(f'Test ROC AUC  Score: {roc_auc_score(test_target, probs)}')"
      ],
      "execution_count": 10,
      "outputs": [
        {
          "output_type": "stream",
          "text": [
            "Train ROC AUC Score: 0.999925109838903\n",
            "Test ROC AUC  Score: 0.740167025862069\n"
          ],
          "name": "stdout"
        }
      ]
    },
    {
      "cell_type": "code",
      "metadata": {
        "id": "5CCq6DZ-EUkg",
        "colab_type": "code",
        "colab": {
          "base_uri": "https://localhost:8080/",
          "height": 71
        },
        "outputId": "db856a15-6729-40d0-b1e4-b2f71494fa31"
      },
      "source": [
        "#Plot ROC curve\n",
        "import matplotlib.pyplot as plt\n",
        "%matplotlib inline\n",
        "import seaborn as sns\n",
        "\n",
        "def evaluate_model(predictions, probs, train_predictions, train_probs):\n",
        "    \"\"\"Compare machine learning model to baseline performance.\n",
        "    Computes statistics and shows ROC curve.\"\"\"\n",
        "    \n",
        "    baseline = {}\n",
        "    \n",
        "    baseline['recall'] = recall_score(test_target, [1 for _ in range(len(test_target))])\n",
        "    baseline['precision'] = precision_score(test_target, [1 for _ in range(len(test_target))])\n",
        "    baseline['roc'] = 0.5\n",
        "    \n",
        "    results = {}\n",
        "    \n",
        "    results['recall'] = recall_score(test_target, predictions)\n",
        "    results['precision'] = precision_score(test_target, predictions)\n",
        "    results['roc'] = roc_auc_score(test_target, probs)\n",
        "    \n",
        "    train_results = {}\n",
        "    train_results['recall'] = recall_score(train_target, train_predictions)\n",
        "    train_results['precision'] = precision_score(train_target, train_predictions)\n",
        "    train_results['roc'] = roc_auc_score(train_target, train_probs)\n",
        "    \n",
        "    for metric in ['recall', 'precision', 'roc']:\n",
        "        print(f'{metric.capitalize()} Baseline: {round(baseline[metric], 2)} Test: {round(results[metric], 2)} Train: {round(train_results[metric], 2)}')\n",
        "    \n",
        "    # Calculate false positive rates and true positive rates\n",
        "    base_fpr, base_tpr, _ = roc_curve(test_target, [1 for _ in range(len(test_target))])\n",
        "    model_fpr, model_tpr, _ = roc_curve(test_target, probs)\n",
        "\n",
        "    plt.figure(figsize = (8, 6))\n",
        "    plt.rcParams['font.size'] = 16\n",
        "    \n",
        "    # Plot both curves\n",
        "    plt.plot(base_fpr, base_tpr, 'b', label = 'baseline')\n",
        "    plt.plot(model_fpr, model_tpr, 'r', label = 'model')\n",
        "    plt.legend();\n",
        "    plt.xlabel('False Positive Rate'); plt.ylabel('True Positive Rate'); plt.title('ROC Curves');"
      ],
      "execution_count": 11,
      "outputs": [
        {
          "output_type": "stream",
          "text": [
            "/usr/local/lib/python3.6/dist-packages/statsmodels/tools/_testing.py:19: FutureWarning: pandas.util.testing is deprecated. Use the functions in the public API at pandas.testing instead.\n",
            "  import pandas.util.testing as tm\n"
          ],
          "name": "stderr"
        }
      ]
    },
    {
      "cell_type": "code",
      "metadata": {
        "id": "JHnIDpDFH-lr",
        "colab_type": "code",
        "colab": {
          "base_uri": "https://localhost:8080/",
          "height": 470
        },
        "outputId": "df2cd135-d739-414b-f27d-41b65678d5f1"
      },
      "source": [
        "evaluate_model(predictions, probs, train_predictions, train_probs)"
      ],
      "execution_count": 12,
      "outputs": [
        {
          "output_type": "stream",
          "text": [
            "Recall Baseline: 1.0 Test: 0.68 Train: 0.99\n",
            "Precision Baseline: 0.4 Test: 0.7 Train: 1.0\n",
            "Roc Baseline: 0.5 Test: 0.74 Train: 1.0\n"
          ],
          "name": "stdout"
        },
        {
          "output_type": "display_data",
          "data": {
            "image/png": "[encoded data removed]",
            "text/plain": [
              "<Figure size 576x432 with 1 Axes>"
            ]
          },
          "metadata": {
            "tags": [],
            "needs_background": "light"
          }
        }
      ]
    },
    {
      "cell_type": "code",
      "metadata": {
        "id": "hxqeQK1YIIoE",
        "colab_type": "code",
        "colab": {
          "base_uri": "https://localhost:8080/",
          "height": 204
        },
        "outputId": "e37d284e-0d9f-47c2-a40d-bd43cff5f269"
      },
      "source": [
        "# Features importances\n",
        "features = list(train.columns)\n",
        "\n",
        "fi = pd.DataFrame({'feature': features, 'importance': tree.feature_importances_}).sort_values('importance', ascending = False)\n",
        "fi.head()"
      ],
      "execution_count": 13,
      "outputs": [
        {
          "output_type": "execute_result",
          "data": {
            "text/html": [
              "<div>\n",
              "<style scoped>\n",
              "    .dataframe tbody tr th:only-of-type {\n",
              "        vertical-align: middle;\n",
              "    }\n",
              "\n",
              "    .dataframe tbody tr th {\n",
              "        vertical-align: top;\n",
              "    }\n",
              "\n",
              "    .dataframe thead th {\n",
              "        text-align: right;\n",
              "    }\n",
              "</style>\n",
              "<table border=\"1\" class=\"dataframe\">\n",
              "  <thead>\n",
              "    <tr style=\"text-align: right;\">\n",
              "      <th></th>\n",
              "      <th>feature</th>\n",
              "      <th>importance</th>\n",
              "    </tr>\n",
              "  </thead>\n",
              "  <tbody>\n",
              "    <tr>\n",
              "      <th>1</th>\n",
              "      <td>female</td>\n",
              "      <td>0.302757</td>\n",
              "    </tr>\n",
              "    <tr>\n",
              "      <th>2</th>\n",
              "      <td>Age</td>\n",
              "      <td>0.252527</td>\n",
              "    </tr>\n",
              "    <tr>\n",
              "      <th>5</th>\n",
              "      <td>Fare</td>\n",
              "      <td>0.247128</td>\n",
              "    </tr>\n",
              "    <tr>\n",
              "      <th>0</th>\n",
              "      <td>Pclass</td>\n",
              "      <td>0.095611</td>\n",
              "    </tr>\n",
              "    <tr>\n",
              "      <th>3</th>\n",
              "      <td>SibSp</td>\n",
              "      <td>0.063915</td>\n",
              "    </tr>\n",
              "  </tbody>\n",
              "</table>\n",
              "</div>"
            ],
            "text/plain": [
              "  feature  importance\n",
              "1  female    0.302757\n",
              "2     Age    0.252527\n",
              "5    Fare    0.247128\n",
              "0  Pclass    0.095611\n",
              "3   SibSp    0.063915"
            ]
          },
          "metadata": {
            "tags": []
          },
          "execution_count": 13
        }
      ]
    },
    {
      "cell_type": "markdown",
      "metadata": {
        "id": "8NQAcO5PKBKL",
        "colab_type": "text"
      },
      "source": [
        "###**Random Forest**"
      ]
    },
    {
      "cell_type": "code",
      "metadata": {
        "id": "9SWc05rsKQl2",
        "colab_type": "code",
        "colab": {
          "base_uri": "https://localhost:8080/",
          "height": 204
        },
        "outputId": "afd866e0-a1c5-4a24-8a52-a11d6cf297d7"
      },
      "source": [
        "from sklearn.ensemble import RandomForestClassifier\n",
        "\n",
        "# Create the model with 100 trees\n",
        "model = RandomForestClassifier(n_estimators=100, max_features = 'sqrt', n_jobs=-1, verbose = 1)\n",
        "\n",
        "# Fit on training data\n",
        "model.fit(train, train_target)"
      ],
      "execution_count": 25,
      "outputs": [
        {
          "output_type": "stream",
          "text": [
            "[Parallel(n_jobs=-1)]: Using backend ThreadingBackend with 2 concurrent workers.\n",
            "[Parallel(n_jobs=-1)]: Done  46 tasks      | elapsed:    0.1s\n",
            "[Parallel(n_jobs=-1)]: Done 100 out of 100 | elapsed:    0.2s finished\n"
          ],
          "name": "stderr"
        },
        {
          "output_type": "execute_result",
          "data": {
            "text/plain": [
              "RandomForestClassifier(bootstrap=True, ccp_alpha=0.0, class_weight=None,\n",
              "                       criterion='gini', max_depth=None, max_features='sqrt',\n",
              "                       max_leaf_nodes=None, max_samples=None,\n",
              "                       min_impurity_decrease=0.0, min_impurity_split=None,\n",
              "                       min_samples_leaf=1, min_samples_split=2,\n",
              "                       min_weight_fraction_leaf=0.0, n_estimators=100,\n",
              "                       n_jobs=-1, oob_score=False, random_state=None, verbose=1,\n",
              "                       warm_start=False)"
            ]
          },
          "metadata": {
            "tags": []
          },
          "execution_count": 25
        }
      ]
    },
    {
      "cell_type": "code",
      "metadata": {
        "id": "DZ2MKkVuKiu6",
        "colab_type": "code",
        "colab": {
          "base_uri": "https://localhost:8080/",
          "height": 51
        },
        "outputId": "a25b2b87-46c2-4e56-d2fd-deb5d2fdc953"
      },
      "source": [
        "n_nodes = []\n",
        "max_depths = []\n",
        "\n",
        "for ind_tree in model.estimators_:\n",
        "    n_nodes.append(ind_tree.tree_.node_count)\n",
        "    max_depths.append(ind_tree.tree_.max_depth)\n",
        "    \n",
        "print(f'Average number of nodes {int(np.mean(n_nodes))}')\n",
        "print(f'Average maximum depth {int(np.mean(max_depths))}')"
      ],
      "execution_count": 26,
      "outputs": [
        {
          "output_type": "stream",
          "text": [
            "Average number of nodes 209\n",
            "Average maximum depth 15\n"
          ],
          "name": "stdout"
        }
      ]
    },
    {
      "cell_type": "code",
      "metadata": {
        "id": "xGDTdawnJCTg",
        "colab_type": "code",
        "colab": {
          "base_uri": "https://localhost:8080/",
          "height": 221
        },
        "outputId": "6080df16-dc67-4bb4-cce2-f02b3ece17e5"
      },
      "source": [
        "train_rf_predictions = model.predict(train)\n",
        "train_rf_probs = model.predict_proba(train)[:, 1]\n",
        "\n",
        "rf_predictions = model.predict(test)\n",
        "rf_probs = model.predict_proba(test)[:, 1]"
      ],
      "execution_count": 27,
      "outputs": [
        {
          "output_type": "stream",
          "text": [
            "[Parallel(n_jobs=2)]: Using backend ThreadingBackend with 2 concurrent workers.\n",
            "[Parallel(n_jobs=2)]: Done  46 tasks      | elapsed:    0.0s\n",
            "[Parallel(n_jobs=2)]: Done 100 out of 100 | elapsed:    0.0s finished\n",
            "[Parallel(n_jobs=2)]: Using backend ThreadingBackend with 2 concurrent workers.\n",
            "[Parallel(n_jobs=2)]: Done  46 tasks      | elapsed:    0.0s\n",
            "[Parallel(n_jobs=2)]: Done 100 out of 100 | elapsed:    0.0s finished\n",
            "[Parallel(n_jobs=2)]: Using backend ThreadingBackend with 2 concurrent workers.\n",
            "[Parallel(n_jobs=2)]: Done  46 tasks      | elapsed:    0.0s\n",
            "[Parallel(n_jobs=2)]: Done 100 out of 100 | elapsed:    0.0s finished\n",
            "[Parallel(n_jobs=2)]: Using backend ThreadingBackend with 2 concurrent workers.\n",
            "[Parallel(n_jobs=2)]: Done  46 tasks      | elapsed:    0.0s\n",
            "[Parallel(n_jobs=2)]: Done 100 out of 100 | elapsed:    0.0s finished\n"
          ],
          "name": "stderr"
        }
      ]
    },
    {
      "cell_type": "code",
      "metadata": {
        "id": "uY01iyNigZgO",
        "colab_type": "code",
        "colab": {
          "base_uri": "https://localhost:8080/",
          "height": 85
        },
        "outputId": "2678cf35-d0c9-442f-8094-cd884c39c054"
      },
      "source": [
        "#Couting classes prediction\n",
        "from collections import Counter\n",
        "predictions = model.predict(test)\n",
        "print(Counter(predictions))"
      ],
      "execution_count": 28,
      "outputs": [
        {
          "output_type": "stream",
          "text": [
            "Counter({0: 138, 1: 77})\n"
          ],
          "name": "stdout"
        },
        {
          "output_type": "stream",
          "text": [
            "[Parallel(n_jobs=2)]: Using backend ThreadingBackend with 2 concurrent workers.\n",
            "[Parallel(n_jobs=2)]: Done  46 tasks      | elapsed:    0.0s\n",
            "[Parallel(n_jobs=2)]: Done 100 out of 100 | elapsed:    0.0s finished\n"
          ],
          "name": "stderr"
        }
      ]
    },
    {
      "cell_type": "code",
      "metadata": {
        "id": "TKIc6gY9KHZj",
        "colab_type": "code",
        "colab": {
          "base_uri": "https://localhost:8080/",
          "height": 470
        },
        "outputId": "0f18cc0f-eabc-4da8-8eec-a7dc2feca175"
      },
      "source": [
        "evaluate_model(rf_predictions, rf_probs, train_rf_predictions, train_rf_probs)"
      ],
      "execution_count": 29,
      "outputs": [
        {
          "output_type": "stream",
          "text": [
            "Recall Baseline: 1.0 Test: 0.69 Train: 0.99\n",
            "Precision Baseline: 0.4 Test: 0.78 Train: 1.0\n",
            "Roc Baseline: 0.5 Test: 0.83 Train: 1.0\n"
          ],
          "name": "stdout"
        },
        {
          "output_type": "display_data",
          "data": {
            "image/png": "[encoded data removed]",
            "text/plain": [
              "<Figure size 576x432 with 1 Axes>"
            ]
          },
          "metadata": {
            "tags": [],
            "needs_background": "light"
          }
        }
      ]
    },
    {
      "cell_type": "code",
      "metadata": {
        "id": "LHnXuvjqKpr0",
        "colab_type": "code",
        "colab": {
          "base_uri": "https://localhost:8080/",
          "height": 204
        },
        "outputId": "78d01caa-e8a7-4d23-9d35-8969e435a107"
      },
      "source": [
        "# Features importances\n",
        "\n",
        "fi = pd.DataFrame({'feature': features, 'importance': model.feature_importances_}).sort_values('importance', ascending = False)\n",
        "fi.head()"
      ],
      "execution_count": 24,
      "outputs": [
        {
          "output_type": "execute_result",
          "data": {
            "text/html": [
              "<div>\n",
              "<style scoped>\n",
              "    .dataframe tbody tr th:only-of-type {\n",
              "        vertical-align: middle;\n",
              "    }\n",
              "\n",
              "    .dataframe tbody tr th {\n",
              "        vertical-align: top;\n",
              "    }\n",
              "\n",
              "    .dataframe thead th {\n",
              "        text-align: right;\n",
              "    }\n",
              "</style>\n",
              "<table border=\"1\" class=\"dataframe\">\n",
              "  <thead>\n",
              "    <tr style=\"text-align: right;\">\n",
              "      <th></th>\n",
              "      <th>feature</th>\n",
              "      <th>importance</th>\n",
              "    </tr>\n",
              "  </thead>\n",
              "  <tbody>\n",
              "    <tr>\n",
              "      <th>5</th>\n",
              "      <td>Fare</td>\n",
              "      <td>0.287161</td>\n",
              "    </tr>\n",
              "    <tr>\n",
              "      <th>2</th>\n",
              "      <td>Age</td>\n",
              "      <td>0.282899</td>\n",
              "    </tr>\n",
              "    <tr>\n",
              "      <th>1</th>\n",
              "      <td>female</td>\n",
              "      <td>0.247084</td>\n",
              "    </tr>\n",
              "    <tr>\n",
              "      <th>0</th>\n",
              "      <td>Pclass</td>\n",
              "      <td>0.092152</td>\n",
              "    </tr>\n",
              "    <tr>\n",
              "      <th>3</th>\n",
              "      <td>SibSp</td>\n",
              "      <td>0.053163</td>\n",
              "    </tr>\n",
              "  </tbody>\n",
              "</table>\n",
              "</div>"
            ],
            "text/plain": [
              "  feature  importance\n",
              "5    Fare    0.287161\n",
              "2     Age    0.282899\n",
              "1  female    0.247084\n",
              "0  Pclass    0.092152\n",
              "3   SibSp    0.053163"
            ]
          },
          "metadata": {
            "tags": []
          },
          "execution_count": 24
        }
      ]
    },
    {
      "cell_type": "code",
      "metadata": {
        "id": "arHV2NuAkNqr",
        "colab_type": "code",
        "colab": {}
      },
      "source": [
        ""
      ],
      "execution_count": null,
      "outputs": []
    }
  ]
}