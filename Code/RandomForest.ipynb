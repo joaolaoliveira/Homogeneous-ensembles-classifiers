{
  "nbformat": 4,
  "nbformat_minor": 0,
  "metadata": {
    "colab": {
      "name": "RandomForest.ipynb",
      "provenance": [],
      "collapsed_sections": []
    },
    "kernelspec": {
      "name": "python3",
      "display_name": "Python 3"
    }
  },
  "cells": [
    {
      "cell_type": "code",
      "metadata": {
        "id": "Mn1bZauk6eCd",
        "colab_type": "code",
        "colab": {}
      },
      "source": [
        "#load libraries\n",
        "\n",
        "import numpy as np\n",
        "import pandas as pd\n",
        "\n",
        "# Set random seed to ensure reproducible runs\n",
        "RSEED = 50"
      ],
      "execution_count": 71,
      "outputs": []
    },
    {
      "cell_type": "markdown",
      "metadata": {
        "id": "_eORwpq07Whs",
        "colab_type": "text"
      },
      "source": [
        "### **Single Decision Tree**"
      ]
    },
    {
      "cell_type": "code",
      "metadata": {
        "id": "tjL6ITcP7RRI",
        "colab_type": "code",
        "colab": {
          "base_uri": "https://localhost:8080/",
          "height": 323
        },
        "outputId": "07a49279-dd0c-442a-fe71-bf2b1fec438b"
      },
      "source": [
        "#Read dataframe\n",
        "df = pd.read_csv('/DF_RF.csv', sep = ';')\n",
        "print(df.shape)\n",
        "print(df.dtypes)\n",
        "print(df.head())\n",
        "\n",
        "# Extract the target (injuried)\n",
        "target = np.array(df.pop(\"Injuried\"))"
      ],
      "execution_count": 126,
      "outputs": [
        {
          "output_type": "stream",
          "text": [
            "(8813, 8)\n",
            "   Weekend  Peak  Wet_track  ...  Motorcycles  Zone  Injuried\n",
            "0        1     0          0  ...            0     0         0\n",
            "1        0     0          0  ...            0     0         0\n",
            "2        1     0          1  ...            1     0         0\n",
            "3        0     1          0  ...            1     1         1\n",
            "4        0     1          0  ...            1     1         1\n",
            "\n",
            "[5 rows x 8 columns]\n",
            "Weekend           int64\n",
            "Peak              int64\n",
            "Wet_track         int64\n",
            "Intersection      int64\n",
            "Large vehicles    int64\n",
            "Motorcycles       int64\n",
            "Zone              int64\n",
            "Injuried          int64\n",
            "dtype: object\n"
          ],
          "name": "stdout"
        }
      ]
    },
    {
      "cell_type": "code",
      "metadata": {
        "id": "glbOH_8zSFNV",
        "colab_type": "code",
        "colab": {
          "base_uri": "https://localhost:8080/",
          "height": 34
        },
        "outputId": "ed15a71d-60fe-42b3-dda6-1fe2504baa86"
      },
      "source": [
        "#Splinting dataframe in training and test data (70/30 ratio)\n",
        "\n",
        "from sklearn.model_selection import train_test_split\n",
        "\n",
        "train, test, train_target, test_target = train_test_split(df, target, stratify = target, test_size = 0.3)\n",
        "print(train.shape, test.shape, train_target.shape, test_target.shape)"
      ],
      "execution_count": 127,
      "outputs": [
        {
          "output_type": "stream",
          "text": [
            "(6169, 7) (2644, 7) (6169,) (2644,)\n"
          ],
          "name": "stdout"
        }
      ]
    },
    {
      "cell_type": "code",
      "metadata": {
        "id": "1iPXNsiq9sl2",
        "colab_type": "code",
        "colab": {
          "base_uri": "https://localhost:8080/",
          "height": 34
        },
        "outputId": "b07def88-7fc1-47f0-aa2d-0a0c33200b0d"
      },
      "source": [
        "# Train tree\n",
        "from sklearn.tree import DecisionTreeClassifier\n",
        "\n",
        "tree = DecisionTreeClassifier()\n",
        "tree.fit(train, train_target)\n",
        "print(f'Decision tree has {tree.tree_.node_count} nodes with maximum depth {tree.tree_.max_depth}.')"
      ],
      "execution_count": 128,
      "outputs": [
        {
          "output_type": "stream",
          "text": [
            "Decision tree has 225 nodes with maximum depth 7.\n"
          ],
          "name": "stdout"
        }
      ]
    },
    {
      "cell_type": "code",
      "metadata": {
        "id": "O2-bDq6G9yBq",
        "colab_type": "code",
        "colab": {}
      },
      "source": [
        "# Make probability predictions\n",
        "train_probs = tree.predict_proba(train)[:, 1]\n",
        "probs = tree.predict_proba(test)[:, 1]\n",
        "\n",
        "train_predictions = tree.predict(train)\n",
        "predictions = tree.predict(test)"
      ],
      "execution_count": 129,
      "outputs": []
    },
    {
      "cell_type": "code",
      "metadata": {
        "id": "JEMeWA__TEYv",
        "colab_type": "code",
        "colab": {
          "base_uri": "https://localhost:8080/",
          "height": 34
        },
        "outputId": "ef9109db-3d73-41de-dfec-f9cbc1d58454"
      },
      "source": [
        "#Couting classes prediction\n",
        "from collections import Counter\n",
        "print(Counter(predictions))"
      ],
      "execution_count": 130,
      "outputs": [
        {
          "output_type": "stream",
          "text": [
            "Counter({0: 1821, 1: 823})\n"
          ],
          "name": "stdout"
        }
      ]
    },
    {
      "cell_type": "code",
      "metadata": {
        "id": "xoSm8bk1Bnya",
        "colab_type": "code",
        "colab": {
          "base_uri": "https://localhost:8080/",
          "height": 51
        },
        "outputId": "6ed8b870-4fd1-489e-947e-055b0d46d2d2"
      },
      "source": [
        "from sklearn.metrics import precision_score, recall_score, roc_auc_score, roc_curve\n",
        "\n",
        "print(f'Train ROC AUC Score: {roc_auc_score(train_target, train_probs)}')\n",
        "print(f'Test ROC AUC  Score: {roc_auc_score(test_target, probs)}')"
      ],
      "execution_count": 122,
      "outputs": [
        {
          "output_type": "stream",
          "text": [
            "Train ROC AUC Score: 0.7947275463262323\n",
            "Test ROC AUC  Score: 0.7690776941254742\n"
          ],
          "name": "stdout"
        }
      ]
    },
    {
      "cell_type": "code",
      "metadata": {
        "id": "5CCq6DZ-EUkg",
        "colab_type": "code",
        "colab": {}
      },
      "source": [
        "#Plot ROC curve\n",
        "import matplotlib.pyplot as plt\n",
        "%matplotlib inline\n",
        "import seaborn as sns\n",
        "\n",
        "def evaluate_model(predictions, probs, train_predictions, train_probs):\n",
        "    \"\"\"Compare machine learning model to baseline performance.\n",
        "    Computes statistics and shows ROC curve.\"\"\"\n",
        "    \n",
        "    baseline = {}\n",
        "    \n",
        "    baseline['recall'] = recall_score(test_target, [1 for _ in range(len(test_target))])\n",
        "    baseline['precision'] = precision_score(test_target, [1 for _ in range(len(test_target))])\n",
        "    baseline['roc'] = 0.5\n",
        "    \n",
        "    results = {}\n",
        "    \n",
        "    results['recall'] = recall_score(test_target, predictions)\n",
        "    results['precision'] = precision_score(test_target, predictions)\n",
        "    results['roc'] = roc_auc_score(test_target, probs)\n",
        "    \n",
        "    train_results = {}\n",
        "    train_results['recall'] = recall_score(train_target, train_predictions)\n",
        "    train_results['precision'] = precision_score(train_target, train_predictions)\n",
        "    train_results['roc'] = roc_auc_score(train_target, train_probs)\n",
        "    \n",
        "    for metric in ['recall', 'precision', 'roc']:\n",
        "        print(f'{metric.capitalize()} Baseline: {round(baseline[metric], 2)} Test: {round(results[metric], 2)} Train: {round(train_results[metric], 2)}')\n",
        "    \n",
        "    # Calculate false positive rates and true positive rates\n",
        "    base_fpr, base_tpr, _ = roc_curve(test_target, [1 for _ in range(len(test_target))])\n",
        "    model_fpr, model_tpr, _ = roc_curve(test_target, probs)\n",
        "\n",
        "    plt.figure(figsize = (8, 6))\n",
        "    plt.rcParams['font.size'] = 16\n",
        "    \n",
        "    # Plot both curves\n",
        "    plt.plot(base_fpr, base_tpr, 'b', label = 'baseline')\n",
        "    plt.plot(model_fpr, model_tpr, 'r', label = 'model')\n",
        "    plt.legend();\n",
        "    plt.xlabel('False Positive Rate'); plt.ylabel('True Positive Rate'); plt.title('ROC Curves');"
      ],
      "execution_count": 131,
      "outputs": []
    },
    {
      "cell_type": "code",
      "metadata": {
        "id": "JHnIDpDFH-lr",
        "colab_type": "code",
        "colab": {
          "base_uri": "https://localhost:8080/",
          "height": 470
        },
        "outputId": "37a0c7c4-a52e-4198-db39-2daf9f1ddb84"
      },
      "source": [
        "evaluate_model(predictions, probs, train_predictions, train_probs)"
      ],
      "execution_count": 132,
      "outputs": [
        {
          "output_type": "stream",
          "text": [
            "Recall Baseline: 1.0 Test: 0.62 Train: 0.66\n",
            "Precision Baseline: 0.35 Test: 0.7 Train: 0.71\n",
            "Roc Baseline: 0.5 Test: 0.76 Train: 0.8\n"
          ],
          "name": "stdout"
        },
        {
          "output_type": "display_data",
          "data": {
            "image/png": "[encoded data removed]",
            "text/plain": [
              "<Figure size 576x432 with 1 Axes>"
            ]
          },
          "metadata": {
            "tags": [],
            "needs_background": "light"
          }
        }
      ]
    },
    {
      "cell_type": "code",
      "metadata": {
        "id": "hxqeQK1YIIoE",
        "colab_type": "code",
        "colab": {
          "base_uri": "https://localhost:8080/",
          "height": 204
        },
        "outputId": "d8103130-fef7-471c-8a08-8a5ed068a449"
      },
      "source": [
        "# Features importances\n",
        "features = list(train.columns)\n",
        "\n",
        "fi = pd.DataFrame({'feature': features, 'importance': tree.feature_importances_}).sort_values('importance', ascending = False)\n",
        "fi.head()"
      ],
      "execution_count": 106,
      "outputs": [
        {
          "output_type": "execute_result",
          "data": {
            "text/html": [
              "<div>\n",
              "<style scoped>\n",
              "    .dataframe tbody tr th:only-of-type {\n",
              "        vertical-align: middle;\n",
              "    }\n",
              "\n",
              "    .dataframe tbody tr th {\n",
              "        vertical-align: top;\n",
              "    }\n",
              "\n",
              "    .dataframe thead th {\n",
              "        text-align: right;\n",
              "    }\n",
              "</style>\n",
              "<table border=\"1\" class=\"dataframe\">\n",
              "  <thead>\n",
              "    <tr style=\"text-align: right;\">\n",
              "      <th></th>\n",
              "      <th>feature</th>\n",
              "      <th>importance</th>\n",
              "    </tr>\n",
              "  </thead>\n",
              "  <tbody>\n",
              "    <tr>\n",
              "      <th>5</th>\n",
              "      <td>Motorcycles</td>\n",
              "      <td>0.925636</td>\n",
              "    </tr>\n",
              "    <tr>\n",
              "      <th>6</th>\n",
              "      <td>Zone</td>\n",
              "      <td>0.016110</td>\n",
              "    </tr>\n",
              "    <tr>\n",
              "      <th>3</th>\n",
              "      <td>Intersection</td>\n",
              "      <td>0.013649</td>\n",
              "    </tr>\n",
              "    <tr>\n",
              "      <th>4</th>\n",
              "      <td>Large vehicles</td>\n",
              "      <td>0.013402</td>\n",
              "    </tr>\n",
              "    <tr>\n",
              "      <th>1</th>\n",
              "      <td>Peak</td>\n",
              "      <td>0.012849</td>\n",
              "    </tr>\n",
              "  </tbody>\n",
              "</table>\n",
              "</div>"
            ],
            "text/plain": [
              "          feature  importance\n",
              "5     Motorcycles    0.925636\n",
              "6            Zone    0.016110\n",
              "3    Intersection    0.013649\n",
              "4  Large vehicles    0.013402\n",
              "1            Peak    0.012849"
            ]
          },
          "metadata": {
            "tags": []
          },
          "execution_count": 106
        }
      ]
    },
    {
      "cell_type": "markdown",
      "metadata": {
        "id": "8NQAcO5PKBKL",
        "colab_type": "text"
      },
      "source": [
        "###**Random Forest**"
      ]
    },
    {
      "cell_type": "code",
      "metadata": {
        "id": "9SWc05rsKQl2",
        "colab_type": "code",
        "colab": {
          "base_uri": "https://localhost:8080/",
          "height": 204
        },
        "outputId": "c05cfbd4-b434-44e3-a13c-d8bbc8664ce0"
      },
      "source": [
        "from sklearn.ensemble import RandomForestClassifier\n",
        "\n",
        "# Create the model with 100 trees\n",
        "model = RandomForestClassifier(n_estimators=100, max_features = 'sqrt', n_jobs=-1, verbose = 1)\n",
        "\n",
        "# Fit on training data\n",
        "model.fit(train, train_target)"
      ],
      "execution_count": 134,
      "outputs": [
        {
          "output_type": "stream",
          "text": [
            "[Parallel(n_jobs=-1)]: Using backend ThreadingBackend with 2 concurrent workers.\n",
            "[Parallel(n_jobs=-1)]: Done  46 tasks      | elapsed:    0.1s\n",
            "[Parallel(n_jobs=-1)]: Done 100 out of 100 | elapsed:    0.2s finished\n"
          ],
          "name": "stderr"
        },
        {
          "output_type": "execute_result",
          "data": {
            "text/plain": [
              "RandomForestClassifier(bootstrap=True, ccp_alpha=0.0, class_weight=None,\n",
              "                       criterion='gini', max_depth=None, max_features='sqrt',\n",
              "                       max_leaf_nodes=None, max_samples=None,\n",
              "                       min_impurity_decrease=0.0, min_impurity_split=None,\n",
              "                       min_samples_leaf=1, min_samples_split=2,\n",
              "                       min_weight_fraction_leaf=0.0, n_estimators=100,\n",
              "                       n_jobs=-1, oob_score=False, random_state=None, verbose=1,\n",
              "                       warm_start=False)"
            ]
          },
          "metadata": {
            "tags": []
          },
          "execution_count": 134
        }
      ]
    },
    {
      "cell_type": "code",
      "metadata": {
        "id": "DZ2MKkVuKiu6",
        "colab_type": "code",
        "colab": {
          "base_uri": "https://localhost:8080/",
          "height": 51
        },
        "outputId": "edd5a8a0-7a10-4240-e217-51a79e2e32e6"
      },
      "source": [
        "n_nodes = []\n",
        "max_depths = []\n",
        "\n",
        "for ind_tree in model.estimators_:\n",
        "    n_nodes.append(ind_tree.tree_.node_count)\n",
        "    max_depths.append(ind_tree.tree_.max_depth)\n",
        "    \n",
        "print(f'Average number of nodes {int(np.mean(n_nodes))}')\n",
        "print(f'Average maximum depth {int(np.mean(max_depths))}')"
      ],
      "execution_count": 135,
      "outputs": [
        {
          "output_type": "stream",
          "text": [
            "Average number of nodes 217\n",
            "Average maximum depth 7\n"
          ],
          "name": "stdout"
        }
      ]
    },
    {
      "cell_type": "code",
      "metadata": {
        "id": "xGDTdawnJCTg",
        "colab_type": "code",
        "colab": {
          "base_uri": "https://localhost:8080/",
          "height": 221
        },
        "outputId": "af5fa3d6-1066-4864-e2c8-5ecaabd050ad"
      },
      "source": [
        "train_rf_predictions = model.predict(train)\n",
        "train_rf_probs = model.predict_proba(train)[:, 1]\n",
        "\n",
        "rf_predictions = model.predict(test)\n",
        "rf_probs = model.predict_proba(test)[:, 1]"
      ],
      "execution_count": 136,
      "outputs": [
        {
          "output_type": "stream",
          "text": [
            "[Parallel(n_jobs=2)]: Using backend ThreadingBackend with 2 concurrent workers.\n",
            "[Parallel(n_jobs=2)]: Done  46 tasks      | elapsed:    0.0s\n",
            "[Parallel(n_jobs=2)]: Done 100 out of 100 | elapsed:    0.1s finished\n",
            "[Parallel(n_jobs=2)]: Using backend ThreadingBackend with 2 concurrent workers.\n",
            "[Parallel(n_jobs=2)]: Done  46 tasks      | elapsed:    0.0s\n",
            "[Parallel(n_jobs=2)]: Done 100 out of 100 | elapsed:    0.1s finished\n",
            "[Parallel(n_jobs=2)]: Using backend ThreadingBackend with 2 concurrent workers.\n",
            "[Parallel(n_jobs=2)]: Done  46 tasks      | elapsed:    0.0s\n",
            "[Parallel(n_jobs=2)]: Done 100 out of 100 | elapsed:    0.0s finished\n",
            "[Parallel(n_jobs=2)]: Using backend ThreadingBackend with 2 concurrent workers.\n",
            "[Parallel(n_jobs=2)]: Done  46 tasks      | elapsed:    0.0s\n",
            "[Parallel(n_jobs=2)]: Done 100 out of 100 | elapsed:    0.0s finished\n"
          ],
          "name": "stderr"
        }
      ]
    },
    {
      "cell_type": "code",
      "metadata": {
        "id": "uY01iyNigZgO",
        "colab_type": "code",
        "colab": {
          "base_uri": "https://localhost:8080/",
          "height": 85
        },
        "outputId": "ebe751b8-5f05-425b-f446-90f366f04627"
      },
      "source": [
        "#Couting classes prediction\n",
        "from collections import Counter\n",
        "predictions = model.predict(test)\n",
        "print(Counter(predictions))"
      ],
      "execution_count": 139,
      "outputs": [
        {
          "output_type": "stream",
          "text": [
            "Counter({0: 1806, 1: 838})\n"
          ],
          "name": "stdout"
        },
        {
          "output_type": "stream",
          "text": [
            "[Parallel(n_jobs=2)]: Using backend ThreadingBackend with 2 concurrent workers.\n",
            "[Parallel(n_jobs=2)]: Done  46 tasks      | elapsed:    0.0s\n",
            "[Parallel(n_jobs=2)]: Done 100 out of 100 | elapsed:    0.0s finished\n"
          ],
          "name": "stderr"
        }
      ]
    },
    {
      "cell_type": "code",
      "metadata": {
        "id": "TKIc6gY9KHZj",
        "colab_type": "code",
        "colab": {
          "base_uri": "https://localhost:8080/",
          "height": 470
        },
        "outputId": "1363ca8d-e157-46c7-f0cd-891a576cd670"
      },
      "source": [
        "evaluate_model(rf_predictions, rf_probs, train_rf_predictions, train_rf_probs)"
      ],
      "execution_count": 137,
      "outputs": [
        {
          "output_type": "stream",
          "text": [
            "Recall Baseline: 1.0 Test: 0.63 Train: 0.66\n",
            "Precision Baseline: 0.35 Test: 0.7 Train: 0.71\n",
            "Roc Baseline: 0.5 Test: 0.77 Train: 0.8\n"
          ],
          "name": "stdout"
        },
        {
          "output_type": "display_data",
          "data": {
            "image/png": "[encoded data removed]",
            "text/plain": [
              "<Figure size 576x432 with 1 Axes>"
            ]
          },
          "metadata": {
            "tags": [],
            "needs_background": "light"
          }
        }
      ]
    },
    {
      "cell_type": "code",
      "metadata": {
        "id": "LHnXuvjqKpr0",
        "colab_type": "code",
        "colab": {
          "base_uri": "https://localhost:8080/",
          "height": 204
        },
        "outputId": "d09930e3-0be4-4599-b978-3123295cdab9"
      },
      "source": [
        "# Features importances\n",
        "\n",
        "fi = pd.DataFrame({'feature': features, 'importance': model.feature_importances_}).sort_values('importance', ascending = False)\n",
        "fi.head()"
      ],
      "execution_count": 140,
      "outputs": [
        {
          "output_type": "execute_result",
          "data": {
            "text/html": [
              "<div>\n",
              "<style scoped>\n",
              "    .dataframe tbody tr th:only-of-type {\n",
              "        vertical-align: middle;\n",
              "    }\n",
              "\n",
              "    .dataframe tbody tr th {\n",
              "        vertical-align: top;\n",
              "    }\n",
              "\n",
              "    .dataframe thead th {\n",
              "        text-align: right;\n",
              "    }\n",
              "</style>\n",
              "<table border=\"1\" class=\"dataframe\">\n",
              "  <thead>\n",
              "    <tr style=\"text-align: right;\">\n",
              "      <th></th>\n",
              "      <th>feature</th>\n",
              "      <th>importance</th>\n",
              "    </tr>\n",
              "  </thead>\n",
              "  <tbody>\n",
              "    <tr>\n",
              "      <th>5</th>\n",
              "      <td>Motorcycles</td>\n",
              "      <td>0.880320</td>\n",
              "    </tr>\n",
              "    <tr>\n",
              "      <th>4</th>\n",
              "      <td>Large vehicles</td>\n",
              "      <td>0.025317</td>\n",
              "    </tr>\n",
              "    <tr>\n",
              "      <th>6</th>\n",
              "      <td>Zone</td>\n",
              "      <td>0.023404</td>\n",
              "    </tr>\n",
              "    <tr>\n",
              "      <th>0</th>\n",
              "      <td>Weekend</td>\n",
              "      <td>0.018703</td>\n",
              "    </tr>\n",
              "    <tr>\n",
              "      <th>3</th>\n",
              "      <td>Intersection</td>\n",
              "      <td>0.017494</td>\n",
              "    </tr>\n",
              "  </tbody>\n",
              "</table>\n",
              "</div>"
            ],
            "text/plain": [
              "          feature  importance\n",
              "5     Motorcycles    0.880320\n",
              "4  Large vehicles    0.025317\n",
              "6            Zone    0.023404\n",
              "0         Weekend    0.018703\n",
              "3    Intersection    0.017494"
            ]
          },
          "metadata": {
            "tags": []
          },
          "execution_count": 140
        }
      ]
    },
    {
      "cell_type": "code",
      "metadata": {
        "id": "arHV2NuAkNqr",
        "colab_type": "code",
        "colab": {}
      },
      "source": [
        ""
      ],
      "execution_count": null,
      "outputs": []
    }
  ]
}